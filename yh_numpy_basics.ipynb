{
 "cells": [
  {
   "cell_type": "code",
   "execution_count": 4,
   "metadata": {},
   "outputs": [
    {
     "name": "stdout",
     "output_type": "stream",
     "text": [
      "Wall time: 28 ms\n",
      "Wall time: 1.52 s\n"
     ]
    }
   ],
   "source": [
    "import numpy as np\n",
    "nums = np.arange(1000000)\n",
    "nums_list = (range(1000000))\n",
    "%time for i in range(10): nums=nums*2\n",
    "%time for i in range(10): nums_list = [j*2 for j in nums_list]"
   ]
  },
  {
   "cell_type": "code",
   "execution_count": 14,
   "metadata": {
    "scrolled": true
   },
   "outputs": [
    {
     "name": "stdout",
     "output_type": "stream",
     "text": [
      "新創建的數值為: [[ 1  3  5  7  9]\n",
      " [ 2  4  6  8 10]]\n"
     ]
    }
   ],
   "source": [
    "import numpy as np\n",
    "arr = np.array([[1,3,5,7,9],[2,4,6,8,10]])\n",
    "print(str.format('新創建的數值為: {0}',  arr))"
   ]
  },
  {
   "cell_type": "code",
   "execution_count": 7,
   "metadata": {},
   "outputs": [
    {
     "name": "stdout",
     "output_type": "stream",
     "text": [
      "新數值的維數為: 2\n"
     ]
    }
   ],
   "source": [
    "print(str.format('新數值的維數為: {0}', arr.ndim))"
   ]
  },
  {
   "cell_type": "code",
   "execution_count": 8,
   "metadata": {},
   "outputs": [
    {
     "name": "stdout",
     "output_type": "stream",
     "text": [
      "新數值的尺寸為: (2, 5)\n"
     ]
    }
   ],
   "source": [
    "print(str.format('新數值的尺寸為: {0}', arr.shape))"
   ]
  },
  {
   "cell_type": "code",
   "execution_count": 12,
   "metadata": {},
   "outputs": [
    {
     "name": "stdout",
     "output_type": "stream",
     "text": [
      "新數值的元素總數為: 10\n"
     ]
    }
   ],
   "source": [
    "print(str.format('新數值的元素總數為: {0}', arr.size))"
   ]
  },
  {
   "cell_type": "code",
   "execution_count": 13,
   "metadata": {},
   "outputs": [
    {
     "name": "stdout",
     "output_type": "stream",
     "text": [
      "新數值的元素類型為: int32\n"
     ]
    }
   ],
   "source": [
    "print(str.format('新數值的元素類型為: {0}', arr.dtype))"
   ]
  },
  {
   "cell_type": "code",
   "execution_count": 15,
   "metadata": {},
   "outputs": [
    {
     "name": "stdout",
     "output_type": "stream",
     "text": [
      "新數值的元素大小為: 4\n"
     ]
    }
   ],
   "source": [
    "print(str.format('新數值的元素大小為: {0}', arr.itemsize))"
   ]
  },
  {
   "cell_type": "code",
   "execution_count": null,
   "metadata": {},
   "outputs": [],
   "source": []
  }
 ],
 "metadata": {
  "kernelspec": {
   "display_name": "Python 3",
   "language": "python",
   "name": "python3"
  },
  "language_info": {
   "codemirror_mode": {
    "name": "ipython",
    "version": 3
   },
   "file_extension": ".py",
   "mimetype": "text/x-python",
   "name": "python",
   "nbconvert_exporter": "python",
   "pygments_lexer": "ipython3",
   "version": "3.7.0"
  }
 },
 "nbformat": 4,
 "nbformat_minor": 2
}
